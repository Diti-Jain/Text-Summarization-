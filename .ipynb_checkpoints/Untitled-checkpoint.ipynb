{
 "cells": [
  {
   "cell_type": "markdown",
   "id": "c6b69fee-48ff-41b9-8a52-bb47516bc4bb",
   "metadata": {},
   "source": [
    "# Importing Modules "
   ]
  },
  {
   "cell_type": "code",
   "execution_count": 2,
   "id": "758fcd35-4169-42fd-9c7b-5c301423344c",
   "metadata": {},
   "outputs": [],
   "source": [
    "import pytesseract\n",
    "import cv2\n",
    "pytesseract.pytesseract.tesseract_cmd = \"/opt/anaconda3/bin/tesseract\""
   ]
  },
  {
   "cell_type": "markdown",
   "id": "b2fa982e-0b37-41f2-82cf-3610718e0d04",
   "metadata": {},
   "source": [
    "# Text Extraction"
   ]
  },
  {
   "cell_type": "code",
   "execution_count": 4,
   "id": "a17e7f3d-0622-4869-93ed-e10f852b5086",
   "metadata": {},
   "outputs": [
    {
     "name": "stdout",
     "output_type": "stream",
     "text": [
      "attempts to appeal to the reader's sense,\n",
      "recreating for him the author's original\n",
      "impression of the subject being described. It\n",
      "is very much concerned with sensory\n",
      "impressions (sight, sound, smell, taste,\n",
      "touch). A description can be objective or\n",
      "impressionistic. The description rarely\n",
      "appears alone in modern writing. It is most\n",
      "often used with narration. ...\n",
      "\n"
     ]
    }
   ],
   "source": [
    "img = cv2.imread(\"1.png\")\n",
    "scale_percent = 100\n",
    "width = int(img.shape[1] * scale_percent / 100)\n",
    "height = int(img.shape[0] * scale_percent / 100)\n",
    "dim = (width, height)\n",
    "img = cv2.resize(img, dim, interpolation = cv2.INTER_AREA)\n",
    "text = pytesseract.image_to_string(img)\n",
    "with open(\"text.txt\",\"w\") as f:\n",
    "    f.write(text)\n",
    "print(text)\n"
   ]
  },
  {
   "cell_type": "markdown",
   "id": "fcb99824-aff3-4dd3-af7e-d93ada0e3cbe",
   "metadata": {},
   "source": [
    "# Importing Libraries"
   ]
  },
  {
   "cell_type": "code",
   "execution_count": 11,
   "id": "16ec1345-de61-4eed-9bad-88811eafb2fe",
   "metadata": {},
   "outputs": [
    {
     "name": "stderr",
     "output_type": "stream",
     "text": [
      "[nltk_data] Downloading package brown to /Users/ditijain/nltk_data...\n",
      "[nltk_data]   Unzipping corpora/brown.zip.\n",
      "[nltk_data] Downloading package stopwords to\n",
      "[nltk_data]     /Users/ditijain/nltk_data...\n",
      "[nltk_data]   Unzipping corpora/stopwords.zip.\n",
      "[nltk_data] Downloading package averaged_perceptron_tagger to\n",
      "[nltk_data]     /Users/ditijain/nltk_data...\n",
      "[nltk_data]   Unzipping taggers/averaged_perceptron_tagger.zip.\n",
      "[nltk_data] Downloading package wordnet to\n",
      "[nltk_data]     /Users/ditijain/nltk_data...\n"
     ]
    },
    {
     "data": {
      "text/plain": [
       "True"
      ]
     },
     "execution_count": 11,
     "metadata": {},
     "output_type": "execute_result"
    }
   ],
   "source": [
    "import nltk\n",
    "nltk.download('brown')\n",
    "nltk.download('stopwords')\n",
    "nltk.download('averaged_perceptron_tagger')\n",
    "nltk.download('wordnet')"
   ]
  },
  {
   "cell_type": "code",
   "execution_count": 13,
   "id": "9a273d28-9a15-4107-ab93-ab411fea4214",
   "metadata": {},
   "outputs": [],
   "source": [
    "import re\n",
    "import string\n",
    "import numpy as np\n",
    "import matplotlib.pyplot as plt\n",
    "from nltk import pos_tag\n",
    "from nltk.tokenize import sent_tokenize, word_tokenize\n",
    "from nltk.stem.wordnet import WordNetLemmatizer\n",
    "from nltk.corpus.reader.wordnet import NOUN, VERB, ADJ, ADV\n",
    "from nltk.corpus import brown, stopwords\n",
    "from nltk.cluster.util import cosine_distance\n",
    "from operator import itemgetter"
   ]
  },
  {
   "cell_type": "markdown",
   "id": "6c8e2b18-99e1-4796-96a4-0276ec1b65db",
   "metadata": {},
   "source": [
    "Using the corpus text for summarization"
   ]
  },
  {
   "cell_type": "code",
   "execution_count": 16,
   "id": "8430e1f8-c73d-404a-abe6-9479ccc75432",
   "metadata": {},
   "outputs": [
    {
     "data": {
      "text/plain": [
       "[\"The Fulton County Grand Jury said Friday an investigation of Atlanta's recent primary election produced `` no evidence '' that any irregularities took place .\",\n",
       " \"The jury further said in term-end presentments that the City Executive Committee , which had over-all charge of the election , `` deserves the praise and thanks of the City of Atlanta '' for the manner in which the election was conducted .\",\n",
       " \"The September-October term jury had been charged by Fulton Superior Court Judge Durwood Pye to investigate reports of possible `` irregularities '' in the hard-fought primary which was won by Mayor-nominate Ivan Allen Jr. .\",\n",
       " \"`` Only a relative handful of such reports was received '' , the jury said , `` considering the widespread interest in the election , the number of voters and the size of this city '' .\",\n",
       " \"The jury said it did find that many of Georgia's registration and election laws `` are outmoded or inadequate and often ambiguous '' .\",\n",
       " \"It recommended that Fulton legislators act `` to have these laws studied and revised to the end of modernizing and improving them '' .\",\n",
       " \"The grand jury commented on a number of other topics , among them the Atlanta and Fulton County purchasing departments which it said `` are well operated and follow generally accepted practices which inure to the best interest of both governments '' .\",\n",
       " 'Merger proposed',\n",
       " \"However , the jury said it believes `` these two offices should be combined to achieve greater efficiency and reduce the cost of administration '' .\",\n",
       " \"The City Purchasing Department , the jury said , `` is lacking in experienced clerical personnel as a result of city personnel policies '' .\",\n",
       " \"It urged that the city `` take steps to remedy '' this problem .\",\n",
       " \"Implementation of Georgia's automobile title law was also recommended by the outgoing jury .\",\n",
       " \"It urged that the next Legislature `` provide enabling funds and re-set the effective date so that an orderly implementation of the law may be effected '' .\",\n",
       " \"The grand jury took a swipe at the State Welfare Department's handling of federal funds granted for child welfare services in foster homes .\",\n",
       " \"`` This is one of the major items in the Fulton County general assistance program '' , the jury said , but the State Welfare Department `` has seen fit to distribute these funds through the welfare departments of all the counties in the state with the exception of Fulton County , which receives none of this money .\",\n",
       " \"The jurors said they realize `` a proportionate distribution of these funds might disable this program in our less populous counties '' .\",\n",
       " \"Nevertheless , `` we feel that in the future Fulton County should receive some portion of these available funds '' , the jurors said .\",\n",
       " \"`` Failure to do this will continue to place a disproportionate burden '' on Fulton taxpayers .\",\n",
       " \"The jury also commented on the Fulton ordinary's court which has been under fire for its practices in the appointment of appraisers , guardians and administrators and the awarding of fees and compensation .\",\n",
       " 'Wards protected',\n",
       " \"The jury said it found the court `` has incorporated into its operating procedures the recommendations '' of two previous grand juries , the Atlanta Bar Association and an interim citizens committee .\",\n",
       " \"`` These actions should serve to protect in fact and in effect the court's wards from undue costs and its appointed and elected servants from unmeritorious criticisms '' , the jury said .\",\n",
       " \"Regarding Atlanta's new multi-million-dollar airport , the jury recommended `` that when the new management takes charge Jan. 1 the airport be operated in a manner that will eliminate political influences '' .\",\n",
       " \"The jury did not elaborate , but it added that `` there should be periodic surveillance of the pricing practices of the concessionaires for the purpose of keeping the prices reasonable '' .\",\n",
       " 'Ask jail deputies',\n",
       " 'On other matters , the jury recommended that : ( 1 )',\n",
       " \"Four additional deputies be employed at the Fulton County Jail and `` a doctor , medical intern or extern be employed for night and weekend duty at the jail '' .\",\n",
       " '( 2 )',\n",
       " \"Fulton legislators `` work with city officials to pass enabling legislation that will permit the establishment of a fair and equitable '' pension plan for city employes .\",\n",
       " \"The jury praised the administration and operation of the Atlanta Police Department , the Fulton Tax Commissioner's Office , the Bellwood and Alpharetta prison farms , Grady Hospital and the Fulton Health Department .\",\n",
       " 'Mayor William B. Hartsfield filed suit for divorce from his wife , Pearl Williams Hartsfield , in Fulton Superior Court Friday .',\n",
       " 'His petition charged mental cruelty .',\n",
       " 'The couple was married Aug. 2 , 1913 .',\n",
       " 'They have a son , William Berry Jr. , and a daughter , Mrs. J. M. Cheshire of Griffin .',\n",
       " 'Attorneys for the mayor said that an amicable property settlement has been agreed upon .',\n",
       " \"The petition listed the mayor's occupation as `` attorney '' and his age as 71 .\",\n",
       " \"It listed his wife's age as 74 and place of birth as Opelika , Ala. .\",\n",
       " 'The petition said that the couple has not lived together as man and wife for more than a year .',\n",
       " 'The Hartsfield home is at 637 E. Pelham Rd. Aj .',\n",
       " \"Henry L. Bowden was listed on the petition as the mayor's attorney .\",\n",
       " 'Hartsfield has been mayor of Atlanta , with exception of one brief interlude , since 1937 .',\n",
       " 'His political career goes back to his election to city council in 1923 .',\n",
       " \"The mayor's present term of office expires Jan. 1 .\",\n",
       " 'He will be succeeded by Ivan Allen Jr. , who became a candidate in the Sept. 13 primary after Mayor Hartsfield announced that he would not run for reelection .',\n",
       " \"Georgia Republicans are getting strong encouragement to enter a candidate in the 1962 governor's race , a top official said Wednesday .\",\n",
       " 'Robert Snodgrass , state GOP chairman , said a meeting held Tuesday night in Blue Ridge brought enthusiastic responses from the audience .',\n",
       " 'State Party Chairman James W. Dorsey added that enthusiasm was picking up for a state rally to be held Sept. 8 in Savannah at which newly elected Texas Sen. John Tower will be the featured speaker .',\n",
       " 'In the Blue Ridge meeting , the audience was warned that entering a candidate for governor would force it to take petitions out into voting precincts to obtain the signatures of registered voters .',\n",
       " 'Despite the warning , there was a unanimous vote to enter a candidate , according to Republicans who attended .',\n",
       " 'When the crowd was asked whether it wanted to wait one more term to make the race , it voted no -- and there were no dissents .',\n",
       " 'The largest hurdle the Republicans would have to face is a state law which says that before making a first race , one of two alternative courses must be taken : 1',\n",
       " 'Five per cent of the voters in each county must sign petitions requesting that the Republicans be allowed to place names of candidates on the general election ballot , or 2',\n",
       " 'The Republicans must hold a primary under the county unit system -- a system which the party opposes in its platform .',\n",
       " \"Sam Caldwell , State Highway Department public relations director , resigned Tuesday to work for Lt. Gov. Garland Byrd's campaign .\",\n",
       " \"Caldwell's resignation had been expected for some time .\",\n",
       " 'He will be succeeded by Rob Ledford of Gainesville , who has been an assistant more than three years .',\n",
       " 'When the gubernatorial campaign starts , Caldwell is expected to become a campaign coordinator for Byrd .',\n",
       " 'The Georgia Legislature will wind up its 1961 session Monday and head for home -- where some of the highway bond money it approved will follow shortly .',\n",
       " 'Before adjournment Monday afternoon , the Senate is expected to approve a study of the number of legislators allotted to rural and urban areas to determine what adjustments should be made .',\n",
       " 'Gov. Vandiver is expected to make the traditional visit to both chambers as they work toward adjournment .',\n",
       " 'Vandiver likely will mention the $100 million highway bond issue approved earlier in the session as his first priority item .',\n",
       " 'Construction bonds',\n",
       " 'Meanwhile , it was learned the State Highway Department is very near being ready to issue the first $30 million worth of highway reconstruction bonds .',\n",
       " \"The bond issue will go to the state courts for a friendly test suit to test the validity of the act , and then the sales will begin and contracts let for repair work on some of Georgia's most heavily traveled highways .\",\n",
       " 'A Highway Department source said there also is a plan there to issue some $3 million to $4 million worth of Rural Roads Authority bonds for rural road construction work .',\n",
       " 'A revolving fund',\n",
       " 'The department apparently intends to make the Rural Roads Authority a revolving fund under which new bonds would be issued every time a portion of the old ones are paid off by tax authorities .',\n",
       " 'Vandiver opened his race for governor in 1958 with a battle in the Legislature against the issuance of $50 million worth of additional rural roads bonds proposed by then Gov. Marvin Griffin .',\n",
       " 'The Highway Department source told The Constitution , however , that Vandiver has not been consulted yet about the plans to issue the new rural roads bonds .',\n",
       " \"Schley County Rep. B. D. Pelham will offer a resolution Monday in the House to rescind the body's action of Friday in voting itself a $10 per day increase in expense allowances .\",\n",
       " \"Pelham said Sunday night there was research being done on whether the `` quickie '' vote on the increase can be repealed outright or whether notice would have to first be given that reconsideration of the action would be sought .\",\n",
       " 'While emphasizing that technical details were not fully worked out , Pelham said his resolution would seek to set aside the privilege resolution which the House voted through 87-31 .',\n",
       " 'A similar resolution passed in the Senate by a vote of 29-5 .',\n",
       " 'As of Sunday night , there was no word of a resolution being offered there to rescind the action .',\n",
       " 'Pelham pointed out that Georgia voters last November rejected a constitutional amendment to allow legislators to vote on pay raises for future Legislature sessions .',\n",
       " 'A veteran Jackson County legislator will ask the Georgia House Monday to back federal aid to education , something it has consistently opposed in the past .',\n",
       " \"Rep. Mac Barber of Commerce is asking the House in a privilege resolution to `` endorse increased federal support for public education , provided that such funds be received and expended '' as state funds .\",\n",
       " \"Barber , who is in his 13th year as a legislator , said there `` are some members of our congressional delegation in Washington who would like to see it ( the resolution ) passed '' .\",\n",
       " \"But he added that none of Georgia's congressmen specifically asked him to offer the resolution .\",\n",
       " 'The resolution , which Barber tossed into the House hopper Friday , will be formally read Monday .',\n",
       " \"It says that `` in the event Congress does provide this increase in federal funds '' , the State Board of Education should be directed to `` give priority '' to teacher pay raises .\",\n",
       " 'Colquitt',\n",
       " \"-- After a long , hot controversy , Miller County has a new school superintendent , elected , as a policeman put it , in the `` coolest election I ever saw in this county '' .\",\n",
       " 'The new school superintendent is Harry Davis , a veteran agriculture teacher , who defeated Felix Bush , a school principal and chairman of the Miller County Democratic Executive Committee .',\n",
       " \"Davis received 1,119 votes in Saturday's election , and Bush got 402 .\",\n",
       " 'Ordinary Carey Williams , armed with a pistol , stood by at the polls to insure order .',\n",
       " \"`` This was the coolest , calmest election I ever saw '' , Colquitt Policeman Tom Williams said .\",\n",
       " '`` Being at the polls was just like being at church .',\n",
       " \"I didn't smell a drop of liquor , and we didn't have a bit of trouble '' .\",\n",
       " 'The campaign leading to the election was not so quiet , however .',\n",
       " 'It was marked by controversy , anonymous midnight phone calls and veiled threats of violence .',\n",
       " 'The former county school superintendent , George P. Callan , shot himself to death March 18 , four days after he resigned his post in a dispute with the county school board .',\n",
       " 'During the election campaign , both candidates , Davis and Bush , reportedly received anonymous telephone calls .',\n",
       " 'Ordinary Williams said he , too , was subjected to anonymous calls soon after he scheduled the election .',\n",
       " 'Many local citizens feared that there would be irregularities at the polls , and Williams got himself a permit to carry a gun and promised an orderly election .',\n",
       " 'Sheriff Felix Tabb said the ordinary apparently made good his promise .',\n",
       " \"`` Everything went real smooth '' , the sheriff said .\",\n",
       " \"`` There wasn't a bit of trouble '' .\"]"
      ]
     },
     "execution_count": 16,
     "metadata": {},
     "output_type": "execute_result"
    }
   ],
   "source": [
    "sentences = brown.sents('ca01')\n",
    "sentences\n",
    "len(sentences)\n",
    "[' '.join(sent) for sent in sentences]"
   ]
  },
  {
   "cell_type": "markdown",
   "id": "f053641b-a583-48c3-a6ac-09502d72b4be",
   "metadata": {},
   "source": [
    "#  Preprocessing"
   ]
  },
  {
   "cell_type": "code",
   "execution_count": 21,
   "id": "842da7a5-9717-456d-995b-f76940bcbef4",
   "metadata": {},
   "outputs": [],
   "source": [
    "class TextCleaner():\n",
    "    def __init__(self):\n",
    "        self.stop_words = set(stopwords.words(\"english\"))\n",
    "        self.punctuations = set(string.punctuation)\n",
    "        self.pos_tags = {\n",
    "        NOUN: ['NN', 'NNS', 'NNP', 'NNPS', 'PRP', 'PRP$', 'WP', 'WP$'],\n",
    "        VERB: ['VB', 'VBD', 'VBG', 'VBN', 'VBP', 'VBZ'],\n",
    "        ADJ: ['JJ', 'JJR', 'JJS'],\n",
    "        ADV: ['RB', 'RBR', 'RBS', 'WRB']\n",
    "        }\n",
    "\n",
    "    \n",
    "    def _remove_stop_words(self, words):\n",
    "        return [w for w in words if w not in self.stop_words]\n",
    "\n",
    "    \n",
    "    \n",
    "    def _remove_regex(self):\n",
    "        self.input_sent = \" \".join([w.lower() for w in self.input_sent])\n",
    "        self.input_sent = re.sub(r\"i'm\", \"i am\", self.input_sent)\n",
    "        self.input_sent = re.sub(r\"he's\", \"he is\", self.input_sent)\n",
    "        self.input_sent = re.sub(r\"she's\", \"she is\", self.input_sent)\n",
    "        self.input_sent = re.sub(r\"that's\", \"that is\", self.input_sent)\n",
    "        self.input_sent = re.sub(r\"what's\", \"what is\", self.input_sent)\n",
    "        self.input_sent = re.sub(r\"where's\", \"where is\", self.input_sent)\n",
    "        self.input_sent = re.sub(r\"\\'ll\", \" will\", self.input_sent)\n",
    "        self.input_sent = re.sub(r\"\\'ve\", \" have\", self.input_sent)\n",
    "        self.input_sent = re.sub(r\"\\'re\", \" are\", self.input_sent)\n",
    "        self.input_sent = re.sub(r\"\\'d\", \" would\", self.input_sent)\n",
    "        self.input_sent = re.sub(r\"won't\", \"will not\", self.input_sent)\n",
    "        self.input_sent = re.sub(r\"can't\", \"cannot\", self.input_sent)\n",
    "        self.input_sent = re.sub(r\"don't\", \"do not\", self.input_sent)\n",
    "        patterns = re.finditer(\"#[\\w]*\", self.input_sent)\n",
    "        \n",
    "        for pattern in patterns:\n",
    "            self.input_sent = re.sub(pattern.group().strip(), \"\", self.input_sent)\n",
    "        self.input_sent = \"\".join(ch for ch in self.input_sent if ch not in self.punctuations)\n",
    "\n",
    "    def _tokenize(self):\n",
    "        return word_tokenize(self.input_sent)"
   ]
  },
  {
   "cell_type": "code",
   "execution_count": null,
   "id": "13881221-7d7e-4bfd-94e7-9042fda953f2",
   "metadata": {},
   "outputs": [],
   "source": []
  }
 ],
 "metadata": {
  "kernelspec": {
   "display_name": "Python 3 (ipykernel)",
   "language": "python",
   "name": "python3"
  },
  "language_info": {
   "codemirror_mode": {
    "name": "ipython",
    "version": 3
   },
   "file_extension": ".py",
   "mimetype": "text/x-python",
   "name": "python",
   "nbconvert_exporter": "python",
   "pygments_lexer": "ipython3",
   "version": "3.11.7"
  }
 },
 "nbformat": 4,
 "nbformat_minor": 5
}
